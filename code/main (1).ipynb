{
  "cells": [
    {
      "cell_type": "code",
      "execution_count": null,
      "metadata": {
        "id": "4zAGZlzhGI82",
        "colab": {
          "base_uri": "https://localhost:8080/"
        },
        "outputId": "d8ad9d24-69a8-41eb-eb82-63218625871c"
      },
      "outputs": [
        {
          "output_type": "stream",
          "name": "stdout",
          "text": [
            "/usr/local/lib/python3.7/dist-packages/gdown/cli.py:131: FutureWarning: Option `--id` was deprecated in version 4.3.1 and will be removed in 5.0. You don't need to pass it anymore to use a file ID.\n",
            "  category=FutureWarning,\n",
            "Downloading...\n",
            "From: https://drive.google.com/uc?id=16MIleqoIr1vYxlGk4GKnGmrsCPuWkkpT\n",
            "To: /content/ECG5000.zip\n",
            "100% 10.6M/10.6M [00:00<00:00, 90.8MB/s]\n",
            "replace ECG5000.txt? [y]es, [n]o, [A]ll, [N]one, [r]ename: A\n"
          ]
        }
      ],
      "source": [
        "!pip install -qq arff2pandas\n",
        "!pip install -q -U watermark\n",
        "!pip install -qq -U pandas\n",
        "\n",
        "!gdown --id 16MIleqoIr1vYxlGk4GKnGmrsCPuWkkpT\n",
        "!unzip -qq ECG5000.zip"
      ]
    },
    {
      "cell_type": "code",
      "execution_count": null,
      "metadata": {
        "colab": {
          "base_uri": "https://localhost:8080/"
        },
        "id": "lZesXM9xm1Qz",
        "outputId": "6889879f-d72a-48a2-ef0c-51a29799a8f6"
      },
      "outputs": [
        {
          "output_type": "stream",
          "name": "stdout",
          "text": [
            "Drive already mounted at /content/drive; to attempt to forcibly remount, call drive.mount(\"/content/drive\", force_remount=True).\n"
          ]
        }
      ],
      "source": [
        "from google.colab import drive\n",
        "drive.mount('/content/drive')"
      ]
    },
    {
      "cell_type": "code",
      "execution_count": null,
      "metadata": {
        "id": "a1vp94lTkexe"
      },
      "outputs": [],
      "source": [
        "import os\n",
        "import torch\n",
        "from torch import nn, optim\n",
        "import copy\n",
        "\n",
        "base_dir = '/content/drive/MyDrive/Colab Notebooks/BacalavrThesis'\n",
        "os.chdir(base_dir)\n",
        "\n",
        "import sys\n",
        "sys.path.insert(0, base_dir)\n",
        "\n",
        "import library.dataset_load as datasets\n",
        "import library.models as models\n",
        "import library.metrics as metrics\n",
        "import library.lam.ssa as ssa\n",
        "import numpy as np"
      ]
    },
    {
      "cell_type": "code",
      "execution_count": null,
      "metadata": {
        "id": "hVlSWpgZx_q8"
      },
      "outputs": [],
      "source": [
        "device = torch.device(\"cuda\" if torch.cuda.is_available() else \"cpu\")\n",
        "\n",
        "train_dataset, val_dataset, test_normal_dataset, test_anomaly_dataset, seq_len, n_features = datasets.load_ECG_dataset()"
      ]
    },
    {
      "cell_type": "markdown",
      "source": [
        "Модель LSTM\n"
      ],
      "metadata": {
        "id": "zf81e2YzZy3G"
      }
    },
    {
      "cell_type": "code",
      "execution_count": null,
      "metadata": {
        "id": "xF7GDBv1LqYn"
      },
      "outputs": [],
      "source": [
        "def train_model_LSTM(model, train_dataset, val_dataset, n_epochs, lr=1e-3):\n",
        "  optimizer = torch.optim.Adam(model.parameters(), lr=lr)\n",
        "  criterion = nn.MSELoss(reduction='sum').to(device)\n",
        "  history = dict(train=[], val=[])\n",
        "\n",
        "  best_model_wts = copy.deepcopy(model.state_dict())\n",
        "  best_loss = 10000.0\n",
        "  \n",
        "  for epoch in range(1, n_epochs + 1):\n",
        "    model = model.train()\n",
        "\n",
        "    train_losses = []\n",
        "    for seq_true in train_dataset:\n",
        "      optimizer.zero_grad()\n",
        "\n",
        "      seq_true = seq_true.to(device)\n",
        "      seq_pred = model(seq_true)\n",
        "\n",
        "      loss = criterion(seq_pred, seq_true)\n",
        "\n",
        "      loss.backward()\n",
        "      optimizer.step()\n",
        "\n",
        "      train_losses.append(loss.item())\n",
        "\n",
        "    val_losses = []\n",
        "    model = model.eval()\n",
        "    with torch.no_grad():\n",
        "      for seq_true in val_dataset:\n",
        "\n",
        "        seq_true = seq_true.to(device)\n",
        "        seq_pred = model(seq_true)\n",
        "\n",
        "        loss = criterion(seq_pred, seq_true)\n",
        "        val_losses.append(loss.item())\n",
        "\n",
        "    train_loss = np.mean(train_losses)\n",
        "    val_loss = np.mean(val_losses)\n",
        "\n",
        "    history['train'].append(train_loss)\n",
        "    history['val'].append(val_loss)\n",
        "\n",
        "    if val_loss < best_loss:\n",
        "      best_loss = val_loss\n",
        "      best_model_wts = copy.deepcopy(model.state_dict())\n",
        "\n",
        "    print(f'Epoch {epoch}: train loss {train_loss} val loss {val_loss}')\n",
        "\n",
        "  model.load_state_dict(best_model_wts)\n",
        "  return model.eval(), history\n",
        "\n",
        "\n"
      ]
    },
    {
      "cell_type": "code",
      "execution_count": null,
      "metadata": {
        "id": "od_MouK5L2E4"
      },
      "outputs": [],
      "source": [
        "model = models.RecurrentAutoencoder_LSTM(seq_len, n_features, 32)\n",
        "model = model.to(device)"
      ]
    },
    {
      "cell_type": "code",
      "execution_count": null,
      "metadata": {
        "id": "FTcqx9oyJ4WT",
        "colab": {
          "base_uri": "https://localhost:8080/"
        },
        "outputId": "de20c3d3-68f5-4595-c322-e948b1c27f2a"
      },
      "outputs": [
        {
          "output_type": "stream",
          "name": "stdout",
          "text": [
            "Epoch 1: train loss 82.67925198872884 val loss 67.23429527282715\n"
          ]
        }
      ],
      "source": [
        "model, history = train_model_LSTM(\n",
        "  model, \n",
        "  train_dataset[:300], \n",
        "  val_dataset[:50], \n",
        "  n_epochs=1,\n",
        "  lr = 1e-3\n",
        ")"
      ]
    },
    {
      "cell_type": "code",
      "source": [
        "metrics.norm_model(model, val_dataset)"
      ],
      "metadata": {
        "id": "rOQ6fCD-xvUf"
      },
      "execution_count": null,
      "outputs": []
    },
    {
      "cell_type": "code",
      "source": [
        "metrics.number_parameters(model)"
      ],
      "metadata": {
        "colab": {
          "base_uri": "https://localhost:8080/"
        },
        "id": "IblPu3yS7oXF",
        "outputId": "2fc3bae2-79ad-4ae6-aeef-66aa28ddf01c"
      },
      "execution_count": null,
      "outputs": [
        {
          "output_type": "execute_result",
          "data": {
            "text/plain": [
              "63297"
            ]
          },
          "metadata": {},
          "execution_count": 9
        }
      ]
    },
    {
      "cell_type": "markdown",
      "source": [
        "SSA\n"
      ],
      "metadata": {
        "id": "aD-wDmZZbHjb"
      }
    },
    {
      "cell_type": "code",
      "source": [
        "model = ssa.SSA(10, 30)"
      ],
      "metadata": {
        "id": "kbW7fXKXbN5K"
      },
      "execution_count": null,
      "outputs": []
    },
    {
      "cell_type": "code",
      "source": [
        "metrics.norm_model(model, val_dataset)"
      ],
      "metadata": {
        "id": "6NkNcxtzb9C3"
      },
      "execution_count": null,
      "outputs": []
    },
    {
      "cell_type": "code",
      "source": [
        "for seq_true in val_dataset:\n",
        "  seq0 = model(seq_true)\n",
        "  break"
      ],
      "metadata": {
        "id": "2TKajKdufYk2"
      },
      "execution_count": null,
      "outputs": []
    },
    {
      "cell_type": "code",
      "source": [
        "len(val_dataset[0])"
      ],
      "metadata": {
        "colab": {
          "base_uri": "https://localhost:8080/"
        },
        "id": "jtppnfx0mS8P",
        "outputId": "8dda9038-d349-49c0-c899-ee527b81c64e"
      },
      "execution_count": null,
      "outputs": [
        {
          "output_type": "execute_result",
          "data": {
            "text/plain": [
              "140"
            ]
          },
          "metadata": {},
          "execution_count": 13
        }
      ]
    },
    {
      "cell_type": "code",
      "source": [
        "import matplotlib.pyplot as plt\n",
        "plt.plot(val_dataset[20])\n",
        "seq0 = model(val_dataset[20])\n",
        "with torch.no_grad():\n",
        "  plt.plot(seq0)\n",
        "plt.ylabel('some numbers')\n",
        "plt.show()"
      ],
      "metadata": {
        "colab": {
          "base_uri": "https://localhost:8080/",
          "height": 488
        },
        "id": "tGO87x__p7kt",
        "outputId": "4dd1a77b-ec7e-42a7-e541-1dbb20ffce6e"
      },
      "execution_count": null,
      "outputs": [
        {
          "output_type": "display_data",
          "data": {
            "text/plain": [
              "<Figure size 864x576 with 1 Axes>"
            ],
            "image/png": "[encoded data removed]"
          },
          "metadata": {}
        }
      ]
    },
    {
      "cell_type": "markdown",
      "source": [
        "S4\n"
      ],
      "metadata": {
        "id": "EbopBjlRBnfP"
      }
    },
    {
      "cell_type": "code",
      "source": [
        "import library.s4 as s4"
      ],
      "metadata": {
        "id": "XM0gAc5R8TUd"
      },
      "execution_count": null,
      "outputs": []
    },
    {
      "cell_type": "code",
      "source": [
        "model = s4.Network_S4()"
      ],
      "metadata": {
        "id": "X0lTSa1s9z0d"
      },
      "execution_count": null,
      "outputs": []
    },
    {
      "cell_type": "code",
      "source": [
        "model, history = train_model_LSTM(\n",
        "  model, \n",
        "  train_dataset[:300], \n",
        "  val_dataset[:50], \n",
        "  n_epochs=1,\n",
        "  lr = 1e-10\n",
        ")"
      ],
      "metadata": {
        "id": "BH0GJDTsFImK"
      },
      "execution_count": null,
      "outputs": []
    },
    {
      "cell_type": "code",
      "source": [
        ""
      ],
      "metadata": {
        "id": "IOMLR31xGO7c"
      },
      "execution_count": null,
      "outputs": []
    }
  ],
  "metadata": {
    "colab": {
      "collapsed_sections": [],
      "name": "main.ipynb",
      "provenance": []
    },
    "kernelspec": {
      "display_name": "Python 3",
      "name": "python3"
    },
    "language_info": {
      "name": "python"
    }
  },
  "nbformat": 4,
  "nbformat_minor": 0
}